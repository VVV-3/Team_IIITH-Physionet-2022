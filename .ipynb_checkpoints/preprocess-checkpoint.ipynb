{
 "cells": [
  {
   "cell_type": "code",
   "execution_count": null,
   "id": "e1654b4c",
   "metadata": {},
   "outputs": [],
   "source": [
    "from src.utils.preprocessing import *\n",
    "from tqdm.auto import tqdm\n",
    "import torch\n",
    "from torch.utils.data import Dataset, DataLoader\n",
    "import librosa\n",
    "import torchaudio.transforms as tat"
   ]
  },
  {
   "cell_type": "code",
   "execution_count": null,
   "id": "3cc22e36",
   "metadata": {},
   "outputs": [],
   "source": []
  },
  {
   "cell_type": "code",
   "execution_count": null,
   "id": "2f3b53ae-25cf-4580-90c5-bab32eafa5fb",
   "metadata": {},
   "outputs": [],
   "source": []
  },
  {
   "cell_type": "code",
   "execution_count": null,
   "id": "d631a6fe",
   "metadata": {},
   "outputs": [],
   "source": [
    "\n"
   ]
  },
  {
   "cell_type": "code",
   "execution_count": null,
   "id": "180d695b-89d4-475f-9a97-c3def18ed6a7",
   "metadata": {},
   "outputs": [],
   "source": []
  },
  {
   "cell_type": "code",
   "execution_count": null,
   "id": "e6317058-a0a5-4d22-b233-fb94d0b0bd58",
   "metadata": {},
   "outputs": [],
   "source": []
  },
  {
   "cell_type": "code",
   "execution_count": null,
   "id": "7b8a89a7-35c8-4d86-8c52-9186c4724a57",
   "metadata": {},
   "outputs": [],
   "source": []
  },
  {
   "cell_type": "code",
   "execution_count": null,
   "id": "e1f037c6",
   "metadata": {},
   "outputs": [],
   "source": [
    "import matplotlib.pyplot as plt\n",
    "\n",
    "raw_pcg_signals, labels = get_pcg_data('../sample_train')\n",
    "resampled_pcg_signals = resample_pcg_signals(raw_pcg_signals)\n",
    "filtered_signals = apply_bandpass_filter(resampled_pcg_signals,low_cutoff=1, high_cutoff=200)\n",
    "\n",
    "# for i in range(5,20):\n",
    "#     plt.rcParams[\"figure.figsize\"] = (20,3)\n",
    "#     plt.plot(resampled_pcg_signals[i][0][0][5000:10000])\n",
    "#     plt.show()\n",
    "#     plt.plot(filtered_signals[i][0][0][5000:10000])\n",
    "#     print(i,labels[i])\n",
    "#     plt.show()"
   ]
  },
  {
   "cell_type": "code",
   "execution_count": null,
   "id": "111ab2c2-3d9c-404a-86ee-3cf793775bde",
   "metadata": {},
   "outputs": [],
   "source": [
    "mel_spectrogram_transform = tat.MelSpectrogram(1000)"
   ]
  },
  {
   "cell_type": "code",
   "execution_count": null,
   "id": "f07a3b07-b779-4225-ada1-3440a41ab5bb",
   "metadata": {},
   "outputs": [],
   "source": [
    "x = signals[0][0][0]"
   ]
  },
  {
   "cell_type": "code",
   "execution_count": null,
   "id": "78930483-3d01-4eda-be22-fbee961ef3e2",
   "metadata": {},
   "outputs": [],
   "source": [
    "x = torch.from_numpy(x.copy()).type(torch.FloatTensor)"
   ]
  },
  {
   "cell_type": "code",
   "execution_count": null,
   "id": "4068dc65-f243-4397-878f-24d3ef8821e0",
   "metadata": {},
   "outputs": [],
   "source": [
    "mel_spects = mel_spectrogram_transform()"
   ]
  },
  {
   "cell_type": "code",
   "execution_count": null,
   "id": "f9fd6c61-f4ba-432f-8692-946979776317",
   "metadata": {},
   "outputs": [],
   "source": [
    "mel_spects.shape"
   ]
  },
  {
   "cell_type": "code",
   "execution_count": null,
   "id": "96f562db",
   "metadata": {},
   "outputs": [],
   "source": [
    "torch.cuda.is_available()"
   ]
  },
  {
   "cell_type": "code",
   "execution_count": null,
   "id": "d86ae6f9-43b6-4768-bbc2-5a679699ad4e",
   "metadata": {},
   "outputs": [],
   "source": [
    "raw_pcg_signals, labels, pids = get_pcg_data('../sample_train')\n",
    "resampled_pcg_signals = resample_pcg_signals(raw_pcg_signals)\n",
    "filtered_signals = apply_bandpass_filter(resampled_pcg_signals,low_cutoff=1, high_cutoff=200)"
   ]
  },
  {
   "cell_type": "code",
   "execution_count": null,
   "id": "6af3cfab-573e-4d08-bb4e-58969d07d651",
   "metadata": {},
   "outputs": [],
   "source": [
    "n_fft = 1024\n",
    "win_length = None\n",
    "hop_length = 500\n",
    "n_mels = 512\n",
    "n_mfcc = 256\n",
    "\n",
    "mfcc_transform = tat.MFCC(\n",
    "    sample_rate=1000,\n",
    "    n_mfcc=n_mfcc,\n",
    "    melkwargs={\n",
    "        \"n_fft\": n_fft,\n",
    "        \"n_mels\": n_mels,\n",
    "        \"hop_length\": hop_length,\n",
    "        \"mel_scale\": \"htk\",\n",
    "    },\n",
    ")"
   ]
  },
  {
   "cell_type": "code",
   "execution_count": null,
   "id": "d249c203-a802-49b7-9118-8582e9de997e",
   "metadata": {},
   "outputs": [],
   "source": [
    "x = mfcc_transform(torch.from_numpy(filtered_signals[0][0][3].copy()).type(torch.FloatTensor))"
   ]
  },
  {
   "cell_type": "code",
   "execution_count": null,
   "id": "1ac92eaa-48f4-4320-8231-83abab8a029b",
   "metadata": {},
   "outputs": [],
   "source": [
    "x[0]"
   ]
  },
  {
   "cell_type": "code",
   "execution_count": null,
   "id": "0a27461c-b0dd-4efa-b99f-e74ca73dc5eb",
   "metadata": {},
   "outputs": [],
   "source": [
    "x.shape"
   ]
  },
  {
   "cell_type": "code",
   "execution_count": null,
   "id": "ffbcdddd-fa22-46c2-be13-fba9ef95146a",
   "metadata": {},
   "outputs": [],
   "source": [
    "signals, labels, pids = get_pcg_data(\"../sample_train\")\n",
    "signals = resample_pcg_signals(signals)\n",
    "signals = apply_bandpass_filter(signals, low_cutoff=1, high_cutoff=200)\n",
    "signals = split_signals(signals, final_len=8192, stride=2048)\n",
    "\n",
    "mel_spects = make_mel_spectrograms(signals, 1000)"
   ]
  },
  {
   "cell_type": "code",
   "execution_count": null,
   "id": "5ad20c00-9152-4291-aa60-6f3ff34cd1b0",
   "metadata": {},
   "outputs": [],
   "source": [
    "torch.stack(mel_spects[0][0]).shape"
   ]
  },
  {
   "cell_type": "code",
   "execution_count": null,
   "id": "24b02b1c-67cf-454c-9c7d-a9f7c1299ff5",
   "metadata": {},
   "outputs": [],
   "source": [
    "len(mel_spects[0][0]), type(mel_spects[0][0]), type(mel_spects[0][0][0])"
   ]
  },
  {
   "cell_type": "code",
   "execution_count": null,
   "id": "859604fb-70e5-4fb1-a191-8898d288bc7e",
   "metadata": {},
   "outputs": [],
   "source": []
  },
  {
   "cell_type": "code",
   "execution_count": null,
   "id": "178478e0-8913-4588-bb82-d98c3845624d",
   "metadata": {},
   "outputs": [],
   "source": []
  },
  {
   "cell_type": "code",
   "execution_count": 1,
   "id": "a4eb0cd9-9dff-4c6b-991e-747b5d6e4efa",
   "metadata": {},
   "outputs": [],
   "source": [
    "from src.utils.preprocessing import *\n",
    "from tqdm.auto import tqdm\n",
    "import torch\n",
    "from torch.utils.data import Dataset, DataLoader\n",
    "import librosa\n",
    "import torchaudio.transforms as tat"
   ]
  },
  {
   "cell_type": "code",
   "execution_count": 2,
   "id": "9ae01c46",
   "metadata": {},
   "outputs": [],
   "source": [
    "class PCGDataset_(Dataset):\n",
    "    def __init__(self, data_folder, transform=None):\n",
    "        self.transform  = transform\n",
    "        self.signals    = list()\n",
    "        self.labels     = list()\n",
    "        self.idxs       = list()\n",
    "        self.mel_spects = list()\n",
    "        self.tp = np.array([0,0,0])\n",
    "        signals, labels, pids = get_pcg_data(data_folder)\n",
    "        # signals = resample_pcg_signals(signals)\n",
    "        # signals = apply_bandpass_filter(signals, low_cutoff=1, high_cutoff=200)\n",
    "        signals = split_signals(signals, final_len=40000, stride=8000)\n",
    "        \n",
    "        mel_spects = make_mel_spectrograms(signals, 4000)\n",
    "        \n",
    "        for patient_no in range(len(signals)):\n",
    "            for signal_no in range(len(signals[patient_no][0])):\n",
    "                self.signals.append(signals[patient_no][0][signal_no])\n",
    "                self.mel_spects.append(mel_spects[patient_no][0][signal_no])\n",
    "                self.labels.append(labels[patient_no])\n",
    "                self.idxs.append(pids[patient_no])\n",
    "                print(labels[patient_no])\n",
    "                self.tp = np.sum(self.tp,labels[patient_no])\n",
    "                \n",
    "                if labels[patient_no][0] == 1:\n",
    "                    self.signals.append(signals[patient_no][0][signal_no])\n",
    "                    self.mel_spects.append(mel_spects[patient_no][0][signal_no])\n",
    "                    self.labels.append(labels[patient_no])\n",
    "                    self.idxs.append(pids[patient_no])\n",
    "                    self.tp = np.sum(self.tp,labels[patient_no])\n",
    "                    \n",
    "                    self.signals.append(signals[patient_no][0][signal_no])\n",
    "                    self.mel_spects.append(mel_spects[patient_no][0][signal_no])\n",
    "                    self.labels.append(labels[patient_no])\n",
    "                    self.idxs.append(pids[patient_no])\n",
    "                    self.tp = np.sum(self.tp,labels[patient_no])\n",
    "        \n",
    "        print(self.tp, \"hehe\", self.mel_spects[0])\n",
    "        \n",
    "        \n",
    "    def mel_shape(self):\n",
    "        return self.mel_spects.shape\n",
    "        \n",
    "    def __getitem__(self, index):\n",
    "        signal, mel_spect, label, pid = self.signals[index], self.mel_spects[index], self.labels[index], self.idxs[index]\n",
    "        signal = signal.reshape(1,signal.shape[0])\n",
    "        if self.transform:\n",
    "            signal, label = self.transform(signal.copy()), self.transform(label)\n",
    "            signal, label = signal.type(torch.FloatTensor), label.type(torch.FloatTensor)\n",
    "        return signal, mel_spect, label, pid\n",
    "        \n",
    "    def __len__(self):\n",
    "        return len(self.signals)"
   ]
  },
  {
   "cell_type": "code",
   "execution_count": 3,
   "id": "ac3d82eb-c850-43d0-a066-c26b79f04e87",
   "metadata": {},
   "outputs": [],
   "source": [
    "class PCGDataset(Dataset):\n",
    "    def __init__(self, data_folder, transform=None):\n",
    "        self.transform  = transform\n",
    "        self.signals    = list()\n",
    "        self.labels     = list()\n",
    "        self.idxs       = list()\n",
    "        self.mel_spects = list()\n",
    "        \n",
    "        signals, labels, pids = get_pcg_data(data_folder)\n",
    "        # signals = resample_pcg_signals(signals)\n",
    "        # signals = apply_bandpass_filter(signals, low_cutoff=1, high_cutoff=200)\n",
    "        signals = split_signals(signals, final_len=40000, stride=8000)\n",
    "        \n",
    "        mel_spects = make_mel_spectrograms(signals, 4000)\n",
    "        \n",
    "        for patient_no in range(len(signals)):\n",
    "            for signal_no in range(len(signals[patient_no][0])):\n",
    "                self.signals.append(signals[patient_no][0][signal_no])\n",
    "                self.mel_spects.append(mel_spects[patient_no][0][signal_no])\n",
    "                self.labels.append(labels[patient_no])\n",
    "                self.idxs.append(pids[patient_no])\n",
    "        \n",
    "    def mel_shape(self):\n",
    "        return self.mel_spects.shape\n",
    "        \n",
    "    def __getitem__(self, index):\n",
    "        signal, mel_spect, label, pid = self.signals[index], self.mel_spects[index], self.labels[index], self.idxs[index]\n",
    "        signal = signal.reshape(1,signal.shape[0])\n",
    "        if self.transform:\n",
    "            signal, label = self.transform(signal.copy()), self.transform(label)\n",
    "            signal, label = signal.type(torch.FloatTensor), label.type(torch.FloatTensor)\n",
    "        return signal, mel_spect, label, pid\n",
    "        \n",
    "    def __len__(self):\n",
    "        return len(self.signals)"
   ]
  },
  {
   "cell_type": "code",
   "execution_count": 4,
   "id": "3721ec04",
   "metadata": {},
   "outputs": [
    {
     "ename": "TypeError",
     "evalue": "only integer scalar arrays can be converted to a scalar index",
     "output_type": "error",
     "traceback": [
      "\u001b[0;31m---------------------------------------------------------------------------\u001b[0m",
      "\u001b[0;31mTypeError\u001b[0m                                 Traceback (most recent call last)",
      "Input \u001b[0;32mIn [4]\u001b[0m, in \u001b[0;36m<cell line: 1>\u001b[0;34m()\u001b[0m\n\u001b[0;32m----> 1\u001b[0m trainset \u001b[38;5;241m=\u001b[39m \u001b[43mPCGDataset_\u001b[49m\u001b[43m(\u001b[49m\u001b[38;5;124;43m'\u001b[39;49m\u001b[38;5;124;43m../sample_train\u001b[39;49m\u001b[38;5;124;43m'\u001b[39;49m\u001b[43m,\u001b[49m\u001b[43m \u001b[49m\u001b[43mtransform\u001b[49m\u001b[38;5;241;43m=\u001b[39;49m\u001b[43mtorch\u001b[49m\u001b[38;5;241;43m.\u001b[39;49m\u001b[43mfrom_numpy\u001b[49m\u001b[43m)\u001b[49m\n\u001b[1;32m      2\u001b[0m testset  \u001b[38;5;241m=\u001b[39m PCGDataset(\u001b[38;5;124m'\u001b[39m\u001b[38;5;124m../sample_test\u001b[39m\u001b[38;5;124m'\u001b[39m, transform\u001b[38;5;241m=\u001b[39mtorch\u001b[38;5;241m.\u001b[39mfrom_numpy)\n",
      "Input \u001b[0;32mIn [2]\u001b[0m, in \u001b[0;36mPCGDataset_.__init__\u001b[0;34m(self, data_folder, transform)\u001b[0m\n\u001b[1;32m     20\u001b[0m \u001b[38;5;28mself\u001b[39m\u001b[38;5;241m.\u001b[39mlabels\u001b[38;5;241m.\u001b[39mappend(labels[patient_no])\n\u001b[1;32m     21\u001b[0m \u001b[38;5;28mself\u001b[39m\u001b[38;5;241m.\u001b[39midxs\u001b[38;5;241m.\u001b[39mappend(pids[patient_no])\n\u001b[0;32m---> 22\u001b[0m \u001b[38;5;28mself\u001b[39m\u001b[38;5;241m.\u001b[39mtp \u001b[38;5;241m=\u001b[39m \u001b[43mnp\u001b[49m\u001b[38;5;241;43m.\u001b[39;49m\u001b[43msum\u001b[49m\u001b[43m(\u001b[49m\u001b[38;5;28;43mself\u001b[39;49m\u001b[38;5;241;43m.\u001b[39;49m\u001b[43mtp\u001b[49m\u001b[43m,\u001b[49m\u001b[43mlabels\u001b[49m\u001b[43m[\u001b[49m\u001b[43mpatient_no\u001b[49m\u001b[43m]\u001b[49m\u001b[43m)\u001b[49m\n\u001b[1;32m     24\u001b[0m \u001b[38;5;28;01mif\u001b[39;00m labels[patient_no][\u001b[38;5;241m0\u001b[39m] \u001b[38;5;241m==\u001b[39m \u001b[38;5;241m1\u001b[39m:\n\u001b[1;32m     25\u001b[0m     \u001b[38;5;28mself\u001b[39m\u001b[38;5;241m.\u001b[39msignals\u001b[38;5;241m.\u001b[39mappend(signals[patient_no][\u001b[38;5;241m0\u001b[39m][signal_no])\n",
      "File \u001b[0;32m<__array_function__ internals>:5\u001b[0m, in \u001b[0;36msum\u001b[0;34m(*args, **kwargs)\u001b[0m\n",
      "File \u001b[0;32m~/miniconda3/envs/pcg/lib/python3.10/site-packages/numpy/core/fromnumeric.py:2259\u001b[0m, in \u001b[0;36msum\u001b[0;34m(a, axis, dtype, out, keepdims, initial, where)\u001b[0m\n\u001b[1;32m   2256\u001b[0m         \u001b[38;5;28;01mreturn\u001b[39;00m out\n\u001b[1;32m   2257\u001b[0m     \u001b[38;5;28;01mreturn\u001b[39;00m res\n\u001b[0;32m-> 2259\u001b[0m \u001b[38;5;28;01mreturn\u001b[39;00m \u001b[43m_wrapreduction\u001b[49m\u001b[43m(\u001b[49m\u001b[43ma\u001b[49m\u001b[43m,\u001b[49m\u001b[43m \u001b[49m\u001b[43mnp\u001b[49m\u001b[38;5;241;43m.\u001b[39;49m\u001b[43madd\u001b[49m\u001b[43m,\u001b[49m\u001b[43m \u001b[49m\u001b[38;5;124;43m'\u001b[39;49m\u001b[38;5;124;43msum\u001b[39;49m\u001b[38;5;124;43m'\u001b[39;49m\u001b[43m,\u001b[49m\u001b[43m \u001b[49m\u001b[43maxis\u001b[49m\u001b[43m,\u001b[49m\u001b[43m \u001b[49m\u001b[43mdtype\u001b[49m\u001b[43m,\u001b[49m\u001b[43m \u001b[49m\u001b[43mout\u001b[49m\u001b[43m,\u001b[49m\u001b[43m \u001b[49m\u001b[43mkeepdims\u001b[49m\u001b[38;5;241;43m=\u001b[39;49m\u001b[43mkeepdims\u001b[49m\u001b[43m,\u001b[49m\n\u001b[1;32m   2260\u001b[0m \u001b[43m                      \u001b[49m\u001b[43minitial\u001b[49m\u001b[38;5;241;43m=\u001b[39;49m\u001b[43minitial\u001b[49m\u001b[43m,\u001b[49m\u001b[43m \u001b[49m\u001b[43mwhere\u001b[49m\u001b[38;5;241;43m=\u001b[39;49m\u001b[43mwhere\u001b[49m\u001b[43m)\u001b[49m\n",
      "File \u001b[0;32m~/miniconda3/envs/pcg/lib/python3.10/site-packages/numpy/core/fromnumeric.py:86\u001b[0m, in \u001b[0;36m_wrapreduction\u001b[0;34m(obj, ufunc, method, axis, dtype, out, **kwargs)\u001b[0m\n\u001b[1;32m     83\u001b[0m         \u001b[38;5;28;01melse\u001b[39;00m:\n\u001b[1;32m     84\u001b[0m             \u001b[38;5;28;01mreturn\u001b[39;00m reduction(axis\u001b[38;5;241m=\u001b[39maxis, out\u001b[38;5;241m=\u001b[39mout, \u001b[38;5;241m*\u001b[39m\u001b[38;5;241m*\u001b[39mpasskwargs)\n\u001b[0;32m---> 86\u001b[0m \u001b[38;5;28;01mreturn\u001b[39;00m \u001b[43mufunc\u001b[49m\u001b[38;5;241;43m.\u001b[39;49m\u001b[43mreduce\u001b[49m\u001b[43m(\u001b[49m\u001b[43mobj\u001b[49m\u001b[43m,\u001b[49m\u001b[43m \u001b[49m\u001b[43maxis\u001b[49m\u001b[43m,\u001b[49m\u001b[43m \u001b[49m\u001b[43mdtype\u001b[49m\u001b[43m,\u001b[49m\u001b[43m \u001b[49m\u001b[43mout\u001b[49m\u001b[43m,\u001b[49m\u001b[43m \u001b[49m\u001b[38;5;241;43m*\u001b[39;49m\u001b[38;5;241;43m*\u001b[39;49m\u001b[43mpasskwargs\u001b[49m\u001b[43m)\u001b[49m\n",
      "\u001b[0;31mTypeError\u001b[0m: only integer scalar arrays can be converted to a scalar index"
     ]
    }
   ],
   "source": [
    "trainset = PCGDataset_('../sample_train', transform=torch.from_numpy)\n",
    "testset  = PCGDataset('../sample_test', transform=torch.from_numpy)"
   ]
  },
  {
   "cell_type": "code",
   "execution_count": null,
   "id": "7be73445",
   "metadata": {},
   "outputs": [],
   "source": [
    "trainloader = DataLoader(dataset=trainset, batch_size=8, shuffle=False)\n",
    "testloader  = DataLoader(dataset=testset, batch_size=8, shuffle=False)"
   ]
  },
  {
   "cell_type": "code",
   "execution_count": null,
   "id": "12906eb3",
   "metadata": {},
   "outputs": [],
   "source": [
    "device = torch.device('cuda' if torch.cuda.is_available() else 'cpu')"
   ]
  },
  {
   "cell_type": "code",
   "execution_count": null,
   "id": "93869ec7-a5bd-4ef4-9cdf-b6ed316cff0b",
   "metadata": {},
   "outputs": [],
   "source": [
    "device"
   ]
  },
  {
   "cell_type": "code",
   "execution_count": null,
   "id": "e7861c03",
   "metadata": {},
   "outputs": [],
   "source": [
    "# arch_config = {\n",
    "# 'n_input_channels':1,\n",
    "# 'signal_length':8192,\n",
    "# 'net_filter_size':[16   , 32 , 64  , 128, 196, 256],\n",
    "# 'net_signal_length':[8192, 4096, 1024, 256,  64,  16],\n",
    "# 'kernel_size':51,\n",
    "# 'n_classes':3,\n",
    "# 'dropout_rate':0.3\n",
    "# }"
   ]
  },
  {
   "cell_type": "code",
   "execution_count": null,
   "id": "36b4b0a5-fd81-40ce-bfc7-c661f3f6b70e",
   "metadata": {},
   "outputs": [],
   "source": [
    "train_config = {\n",
    "'num_epochs':3,\n",
    "'learning_rate':5e-5,\n",
    "}"
   ]
  },
  {
   "cell_type": "code",
   "execution_count": null,
   "id": "54d9b411-a58f-493e-9313-65d1a487279d",
   "metadata": {},
   "outputs": [],
   "source": [
    "# wandb.init(project=\"PCG\", entity=\"zelda\", config={**arch_config, **train_config})"
   ]
  },
  {
   "cell_type": "code",
   "execution_count": null,
   "id": "c03a7905",
   "metadata": {},
   "outputs": [],
   "source": [
    "# arch_config = {\n",
    "# 'n_input_channels':1,\n",
    "# 'signal_length':8192,\n",
    "# 'net_filter_size':[8   , 16  , 32],\n",
    "# 'net_signal_length':[1024, 256, 64],\n",
    "# 'kernel_size':51,\n",
    "# 'n_classes':3,\n",
    "# 'dropout_rate':0.1\n",
    "# }\n",
    "\n",
    "# model = ResNet1d(input_dim=(arch_config['n_input_channels'], arch_config['signal_length']), \n",
    "#          blocks_dim=list(zip(arch_config['net_filter_size'], arch_config['net_signal_length'])),\n",
    "#          kernel_size=arch_config['kernel_size'],\n",
    "#          n_classes=arch_config['n_classes'],\n",
    "#          dropout_rate=arch_config['dropout_rate'])"
   ]
  },
  {
   "cell_type": "code",
   "execution_count": null,
   "id": "9ce086c6-af3d-4f9d-9b50-8430a91d7d1c",
   "metadata": {},
   "outputs": [],
   "source": [
    "from src.models.ast_models import ASTModel"
   ]
  },
  {
   "cell_type": "code",
   "execution_count": null,
   "id": "f6e732c6-fa07-4589-afa1-c2454546adda",
   "metadata": {},
   "outputs": [],
   "source": [
    "model = ASTModel(label_dim=3,input_fdim=201, input_tdim=201, imagenet_pretrain=False, fstride=16, tstride=16)"
   ]
  },
  {
   "cell_type": "code",
   "execution_count": null,
   "id": "d9c5bda2",
   "metadata": {},
   "outputs": [],
   "source": [
    "model = model.to(device)"
   ]
  },
  {
   "cell_type": "code",
   "execution_count": null,
   "id": "63fd2144-cddd-43fb-8320-5acfddf48f57",
   "metadata": {},
   "outputs": [],
   "source": [
    "model.parameters()"
   ]
  },
  {
   "cell_type": "code",
   "execution_count": null,
   "id": "27f6fd76",
   "metadata": {},
   "outputs": [],
   "source": [
    "criterion = torch.nn.CrossEntropyLoss()\n",
    "# optimizer = torch.optim.Adam(model.parameters(), lr=train_config['learning_rate'])\n",
    "optimizer = torch.optim.Adam(model.parameters(), lr=train_config['learning_rate'], weight_decay=0.001)"
   ]
  },
  {
   "cell_type": "code",
   "execution_count": null,
   "id": "2b59f34c-c159-4c1b-a0dc-901e5538dfdf",
   "metadata": {},
   "outputs": [],
   "source": [
    "import matplotlib.pyplot as plt\n",
    "import librosa"
   ]
  },
  {
   "cell_type": "code",
   "execution_count": null,
   "id": "b6376409-73fc-4e87-9dd4-f416b9dfc22a",
   "metadata": {},
   "outputs": [],
   "source": []
  },
  {
   "cell_type": "code",
   "execution_count": null,
   "id": "934cbf40-f1e6-4570-ba8f-98c6e2f331ac",
   "metadata": {},
   "outputs": [],
   "source": [
    "def plot_spectrogram(spec, title=None, ylabel=\"freq_bin\", aspect=\"auto\", xmax=None):\n",
    "    fig, axs = plt.subplots(1, 1)\n",
    "    axs.set_title(title or \"Spectrogram (db)\")\n",
    "    axs.set_ylabel(ylabel)\n",
    "    axs.set_xlabel(\"frame\")\n",
    "    im = axs.imshow(spec, origin=\"lower\", aspect=aspect)\n",
    "    if xmax:\n",
    "        axs.set_xlim((0, xmax))\n",
    "    fig.colorbar(im, ax=axs)\n",
    "    plt.show(block=False)"
   ]
  },
  {
   "cell_type": "code",
   "execution_count": null,
   "id": "70a70234",
   "metadata": {
    "scrolled": true,
    "tags": []
   },
   "outputs": [],
   "source": [
    "val_loss =[]\n",
    "train_loss = []\n",
    "best_loss = 1000\n",
    "curr_loss = 1000\n",
    "\n",
    "for epoch in (range(train_config['num_epochs'])):\n",
    "    \n",
    "    model.train()\n",
    "    t = [] \n",
    "    for i, (inputs, specs, labels, pid) in tqdm(enumerate(trainloader), total=len(trainloader), leave=False):\n",
    "        \n",
    "        # inputs = torch.rand([64, 128, 33]).to(device)\n",
    "        inputs = specs.to(device)\n",
    "        labels = labels.to(device)\n",
    "        # print(specs.shape)\n",
    "        # plot_spectrogram(specs[0])\n",
    "        \n",
    "        outputs = model(inputs)\n",
    "        loss   = criterion(outputs, labels)\n",
    "        optimizer.zero_grad()\n",
    "        loss.backward()\n",
    "        optimizer.step()\n",
    "        \n",
    "        t.append(np.array(loss.detach().cpu()).item())\n",
    "    \n",
    "    train_loss.append(np.array(t).mean())\n",
    "    print(train_loss[-1])\n",
    "\n",
    "    model.eval()\n",
    "    l=[]\n",
    "    for i, (inputs, specs, labels, pid) in tqdm(enumerate(testloader), total=len(testloader), leave=False):\n",
    "        \n",
    "        inputs = specs.to(device)\n",
    "        labels = labels.to(device)\n",
    "        \n",
    "        outputs = model(inputs)\n",
    "        loss   = criterion(outputs, labels)\n",
    "        l.append(np.array(loss.detach().cpu()).item())\n",
    "        # wandb.log({'test_loss':loss})\n",
    "    val_loss.append(np.array(l).mean())\n",
    "    \n",
    "    print('Epoch ',epoch ,' train loss: ', np.array(t).mean(), ' val loss: ', np.array(l).mean())\n",
    "    # break\n",
    "    curr_loss = np.array(l).mean()\n",
    "    if curr_loss < best_loss :\n",
    "        # torch.save(model, 'models/best_model'+str(curr_loss)+'.pt')\n",
    "        best_loss = curr_loss\n",
    "        "
   ]
  },
  {
   "cell_type": "code",
   "execution_count": null,
   "id": "a166b008-7735-4078-8bd9-6277cae23251",
   "metadata": {
    "tags": []
   },
   "outputs": [],
   "source": [
    "len(testset)"
   ]
  },
  {
   "cell_type": "code",
   "execution_count": null,
   "id": "08b07194-c198-4361-92fc-d97a6e3557a4",
   "metadata": {},
   "outputs": [],
   "source": [
    "val_loss"
   ]
  },
  {
   "cell_type": "code",
   "execution_count": null,
   "id": "d1118abb-cb8b-4d99-a582-f20672e1f2e1",
   "metadata": {},
   "outputs": [],
   "source": [
    "import matplotlib.pyplot as plt\n",
    "plt.plot(np.array(val_loss))\n",
    "plt.plot(np.array(train_loss))"
   ]
  },
  {
   "cell_type": "code",
   "execution_count": null,
   "id": "92c605d6-38d0-42d6-86e7-7a56e93e54a2",
   "metadata": {
    "tags": []
   },
   "outputs": [],
   "source": [
    "true= []\n",
    "preds = []\n",
    "patient_labels = {}\n",
    "patient_preds = {}\n",
    "model.eval()\n",
    "for i, (inputs, specs, labels, pids) in tqdm(enumerate(testloader), total=len(testloader), leave=False):\n",
    "    inputs = specs.to(device)\n",
    "    labels = labels.to(device)\n",
    "\n",
    "    outputs = model(inputs)\n",
    "    # print(outputs)\n",
    "    # print(outputs.shape, labels.shape)\n",
    "    a =np.array(outputs.detach().cpu())\n",
    "    b= np.array(labels.detach().cpu())\n",
    "    true = np.concatenate((true, np.argmax(b, axis = 1)))\n",
    "    preds = np.concatenate((preds, np.argmax(a, axis = 1)))\n",
    "    tt = np.argmax(b, axis = 1)\n",
    "    pp = np.argmax(a, axis = 1)\n",
    "    \n",
    "    # print(\"dsf\",len(pp))\n",
    "    # print(\"ffd\",len(tt))\n",
    "    \n",
    "    for i in range(len(tt)):\n",
    "        patient_labels[pids[i]] = tt[i]\n",
    "        try:\n",
    "            if patient_preds[pids[i]]:\n",
    "                patient_preds[pids[i]].append(pp[i]) \n",
    "        except:\n",
    "            patient_preds[pids[i]] = [pp[i]]\n",
    "        \n",
    "        \n",
    "    # print(a, np.argmax(a, axis = 1))"
   ]
  },
  {
   "cell_type": "code",
   "execution_count": null,
   "id": "9a96ca67-4481-4e39-ba93-619d43380632",
   "metadata": {
    "tags": []
   },
   "outputs": [],
   "source": [
    "results = {}\n",
    "for i in patient_preds:\n",
    "    ls = patient_preds[i]\n",
    "    probs = np.array([ls.count(0), ls.count(1), ls.count(2)])/len(ls)\n",
    "    val = probs.max()\n",
    "    pos = np.where( probs == val)\n",
    "    results[i] = { 'prediction':pos[0][0], 'confidence':val}"
   ]
  },
  {
   "cell_type": "code",
   "execution_count": null,
   "id": "0a0be68c-cf4e-49ea-bad0-9c4dfa0d614b",
   "metadata": {
    "tags": []
   },
   "outputs": [],
   "source": [
    "print(\"acc\",np.sum(true== preds, dtype=float)/len(true))"
   ]
  },
  {
   "cell_type": "code",
   "execution_count": null,
   "id": "dfd0f2e9-c179-486e-8d25-6afa1417d31e",
   "metadata": {
    "tags": []
   },
   "outputs": [],
   "source": [
    "plt.hist(true)"
   ]
  },
  {
   "cell_type": "code",
   "execution_count": null,
   "id": "cd611e31-686a-42fc-85c8-57bd6648f05e",
   "metadata": {},
   "outputs": [],
   "source": [
    "plt.hist(preds)"
   ]
  },
  {
   "cell_type": "code",
   "execution_count": null,
   "id": "9ab96e80-be7d-4dec-9205-3fc302ba801f",
   "metadata": {},
   "outputs": [],
   "source": [
    "true"
   ]
  },
  {
   "cell_type": "code",
   "execution_count": null,
   "id": "7ce77352-701e-4cce-8f88-87639c7571ef",
   "metadata": {},
   "outputs": [],
   "source": [
    "cm = np.array([0]*9).reshape(3,3)"
   ]
  },
  {
   "cell_type": "code",
   "execution_count": null,
   "id": "853d65b8-7ad1-4f5b-a8bc-7e2a6b2f3611",
   "metadata": {},
   "outputs": [],
   "source": [
    "for i in range(len(true)):\n",
    "    cm[int(true[i])][int(preds[i])] += 1"
   ]
  },
  {
   "cell_type": "code",
   "execution_count": null,
   "id": "b622792f-a4ed-444a-8677-5053a3c9ce7b",
   "metadata": {},
   "outputs": [],
   "source": [
    "cm"
   ]
  },
  {
   "cell_type": "code",
   "execution_count": null,
   "id": "3ab3918d-cba3-4738-ac68-3c87e78b78a2",
   "metadata": {},
   "outputs": [],
   "source": []
  },
  {
   "cell_type": "code",
   "execution_count": null,
   "id": "ecaf9f5c-9366-42d2-88df-ac5ba0e7eb09",
   "metadata": {},
   "outputs": [],
   "source": []
  }
 ],
 "metadata": {
  "kernelspec": {
   "display_name": "Python 3 (ipykernel)",
   "language": "python",
   "name": "python3"
  },
  "language_info": {
   "codemirror_mode": {
    "name": "ipython",
    "version": 3
   },
   "file_extension": ".py",
   "mimetype": "text/x-python",
   "name": "python",
   "nbconvert_exporter": "python",
   "pygments_lexer": "ipython3",
   "version": "3.10.4"
  }
 },
 "nbformat": 4,
 "nbformat_minor": 5
}

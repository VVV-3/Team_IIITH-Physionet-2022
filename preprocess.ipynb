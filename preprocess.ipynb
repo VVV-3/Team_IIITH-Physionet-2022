{
 "cells": [
  {
   "cell_type": "code",
   "execution_count": 27,
   "id": "e1654b4c",
   "metadata": {},
   "outputs": [],
   "source": [
    "from src.utils.preprocessing import *"
   ]
  },
  {
   "cell_type": "code",
   "execution_count": 48,
   "id": "3cc22e36",
   "metadata": {},
   "outputs": [],
   "source": [
    "from tqdm.auto import tqdm"
   ]
  },
  {
   "cell_type": "code",
   "execution_count": 28,
   "id": "2f3b53ae-25cf-4580-90c5-bab32eafa5fb",
   "metadata": {},
   "outputs": [],
   "source": [
    "import torch"
   ]
  },
  {
   "cell_type": "code",
   "execution_count": 24,
   "id": "d631a6fe",
   "metadata": {},
   "outputs": [],
   "source": [
    "\n",
    "from torch.utils.data import Dataset, DataLoader\n",
    "import librosa"
   ]
  },
  {
   "cell_type": "code",
   "execution_count": 4,
   "id": "180d695b-89d4-475f-9a97-c3def18ed6a7",
   "metadata": {},
   "outputs": [],
   "source": [
    "import torchaudio.transforms as tat"
   ]
  },
  {
   "cell_type": "code",
   "execution_count": 1,
   "id": "557889b5-4cfc-4044-9dc7-b862210c2c25",
   "metadata": {},
   "outputs": [],
   "source": [
    "from src.utils.dataset import PCGDataset"
   ]
  },
  {
   "cell_type": "code",
   "execution_count": null,
   "id": "e1f037c6",
   "metadata": {},
   "outputs": [],
   "source": [
    "import matplotlib.pyplot as plt\n",
    "\n",
    "raw_pcg_signals, labels = get_pcg_data('../sample_train')\n",
    "resampled_pcg_signals = resample_pcg_signals(raw_pcg_signals)\n",
    "filtered_signals = apply_bandpass_filter(resampled_pcg_signals,low_cutoff=1, high_cutoff=200)\n",
    "\n",
    "# for i in range(5,20):\n",
    "#     plt.rcParams[\"figure.figsize\"] = (20,3)\n",
    "#     plt.plot(resampled_pcg_signals[i][0][0][5000:10000])\n",
    "#     plt.show()\n",
    "#     plt.plot(filtered_signals[i][0][0][5000:10000])\n",
    "#     print(i,labels[i])\n",
    "#     plt.show()"
   ]
  },
  {
   "cell_type": "code",
   "execution_count": null,
   "id": "111ab2c2-3d9c-404a-86ee-3cf793775bde",
   "metadata": {},
   "outputs": [],
   "source": [
    "mel_spectrogram_transform = tat.MelSpectrogram(1000)"
   ]
  },
  {
   "cell_type": "code",
   "execution_count": null,
   "id": "f07a3b07-b779-4225-ada1-3440a41ab5bb",
   "metadata": {},
   "outputs": [],
   "source": [
    "x = signals[0][0][0]"
   ]
  },
  {
   "cell_type": "code",
   "execution_count": null,
   "id": "78930483-3d01-4eda-be22-fbee961ef3e2",
   "metadata": {},
   "outputs": [],
   "source": [
    "x = torch.from_numpy(x.copy()).type(torch.FloatTensor)"
   ]
  },
  {
   "cell_type": "code",
   "execution_count": null,
   "id": "4068dc65-f243-4397-878f-24d3ef8821e0",
   "metadata": {},
   "outputs": [],
   "source": [
    "mel_spects = mel_spectrogram_transform()"
   ]
  },
  {
   "cell_type": "code",
   "execution_count": null,
   "id": "f9fd6c61-f4ba-432f-8692-946979776317",
   "metadata": {},
   "outputs": [],
   "source": [
    "mel_spects.shape"
   ]
  },
  {
   "cell_type": "code",
   "execution_count": null,
   "id": "96f562db",
   "metadata": {},
   "outputs": [],
   "source": [
    "torch.cuda.is_available()"
   ]
  },
  {
   "cell_type": "code",
   "execution_count": null,
   "id": "d86ae6f9-43b6-4768-bbc2-5a679699ad4e",
   "metadata": {},
   "outputs": [],
   "source": [
    "raw_pcg_signals, labels = get_pcg_data('../sample_train')\n",
    "resampled_pcg_signals = resample_pcg_signals(raw_pcg_signals)\n",
    "filtered_signals = apply_bandpass_filter(resampled_pcg_signals,low_cutoff=1, high_cutoff=200)"
   ]
  },
  {
   "cell_type": "code",
   "execution_count": null,
   "id": "6af3cfab-573e-4d08-bb4e-58969d07d651",
   "metadata": {},
   "outputs": [],
   "source": [
    "n_fft = 1024\n",
    "win_length = None\n",
    "hop_length = 500\n",
    "n_mels = 512\n",
    "n_mfcc = 256\n",
    "\n",
    "mfcc_transform = tat.MFCC(\n",
    "    sample_rate=1000,\n",
    "    n_mfcc=n_mfcc,\n",
    "    melkwargs={\n",
    "        \"n_fft\": n_fft,\n",
    "        \"n_mels\": n_mels,\n",
    "        \"hop_length\": hop_length,\n",
    "        \"mel_scale\": \"htk\",\n",
    "    },\n",
    ")"
   ]
  },
  {
   "cell_type": "code",
   "execution_count": null,
   "id": "d249c203-a802-49b7-9118-8582e9de997e",
   "metadata": {},
   "outputs": [],
   "source": [
    "x = mfcc_transform(torch.from_numpy(filtered_signals[0][0][1]).type(torch.FloatTensor))"
   ]
  },
  {
   "cell_type": "code",
   "execution_count": null,
   "id": "1ac92eaa-48f4-4320-8231-83abab8a029b",
   "metadata": {},
   "outputs": [],
   "source": [
    "x[0]"
   ]
  },
  {
   "cell_type": "code",
   "execution_count": null,
   "id": "0a27461c-b0dd-4efa-b99f-e74ca73dc5eb",
   "metadata": {},
   "outputs": [],
   "source": [
    "x.shape"
   ]
  },
  {
   "cell_type": "code",
   "execution_count": 31,
   "id": "ffbcdddd-fa22-46c2-be13-fba9ef95146a",
   "metadata": {},
   "outputs": [],
   "source": [
    "signals, labels, pids = get_pcg_data(\"../sample_train\")\n",
    "signals = resample_pcg_signals(signals)\n",
    "signals = apply_bandpass_filter(signals, low_cutoff=1, high_cutoff=200)\n",
    "signals = split_signals(signals, final_len=8192, stride=2048)\n",
    "\n",
    "mel_spects = make_mel_spectrograms(signals, 1000)"
   ]
  },
  {
   "cell_type": "code",
   "execution_count": 46,
   "id": "5ad20c00-9152-4291-aa60-6f3ff34cd1b0",
   "metadata": {},
   "outputs": [
    {
     "data": {
      "text/plain": [
       "torch.Size([26, 128, 33])"
      ]
     },
     "execution_count": 46,
     "metadata": {},
     "output_type": "execute_result"
    }
   ],
   "source": [
    "torch.stack(mel_spects[0][0]).shape"
   ]
  },
  {
   "cell_type": "code",
   "execution_count": 34,
   "id": "24b02b1c-67cf-454c-9c7d-a9f7c1299ff5",
   "metadata": {},
   "outputs": [
    {
     "data": {
      "text/plain": [
       "(26, list, torch.Tensor)"
      ]
     },
     "execution_count": 34,
     "metadata": {},
     "output_type": "execute_result"
    }
   ],
   "source": [
    "len(mel_spects[0][0]), type(mel_spects[0][0]), type(mel_spects[0][0][0])"
   ]
  },
  {
   "cell_type": "code",
   "execution_count": 29,
   "id": "9ae01c46",
   "metadata": {},
   "outputs": [],
   "source": [
    "class PCGDataset(Dataset):\n",
    "    def __init__(self, data_folder, transform=None):\n",
    "        self.transform  = transform\n",
    "        self.signals    = list()\n",
    "        self.labels     = list()\n",
    "        self.idxs       = list()\n",
    "        self.mel_spects = list()\n",
    "        \n",
    "        signals, labels, pids = get_pcg_data(data_folder)\n",
    "        signals = resample_pcg_signals(signals)\n",
    "        signals = apply_bandpass_filter(signals, low_cutoff=1, high_cutoff=200)\n",
    "        signals = split_signals(signals, final_len=8192, stride=2048)\n",
    "        \n",
    "        mel_spects = make_mel_spectrograms(signals, 1000)\n",
    "        \n",
    "        print(type(mel_spects\n",
    "        inps = torch.Tensor(mel_spects[0][0])\n",
    "        print(inps.shaps)\n",
    "        \n",
    "        for patient_no in range(len(signals)):\n",
    "            for signal_no in range(len(signals[patient_no][0])):\n",
    "                self.signals.append(signals[patient_no][0][signal_no])\n",
    "                self.mel_spects.append(mel_spects[patient_no][0][signal_no])\n",
    "                self.labels.append(labels[patient_no])\n",
    "                self.idxs.append(pids[patient_no])\n",
    "        \n",
    "        \n",
    "    def __getitem__(self, index):\n",
    "        signal, mel_spect, label, pid = self.signals[index], self.mel_spects[index], self.labels[index], self.idxs[index]\n",
    "        signal = signal.reshape(1,signal.shape[0])\n",
    "        if self.transform:\n",
    "            signal, label = self.transform(signal.copy()), self.transform(label)\n",
    "            signal, label = signal.type(torch.FloatTensor), label.type(torch.FloatTensor)\n",
    "        return signal, mel_spect, label, pid\n",
    "        \n",
    "    def __len__(self):\n",
    "        return len(self.signals)"
   ]
  },
  {
   "cell_type": "code",
   "execution_count": 30,
   "id": "3721ec04",
   "metadata": {},
   "outputs": [
    {
     "ename": "ValueError",
     "evalue": "only one element tensors can be converted to Python scalars",
     "output_type": "error",
     "traceback": [
      "\u001b[0;31m---------------------------------------------------------------------------\u001b[0m",
      "\u001b[0;31mValueError\u001b[0m                                Traceback (most recent call last)",
      "Input \u001b[0;32mIn [30]\u001b[0m, in \u001b[0;36m<cell line: 1>\u001b[0;34m()\u001b[0m\n\u001b[0;32m----> 1\u001b[0m trainset \u001b[38;5;241m=\u001b[39m \u001b[43mPCGDataset\u001b[49m\u001b[43m(\u001b[49m\u001b[38;5;124;43m'\u001b[39;49m\u001b[38;5;124;43m../sample_train\u001b[39;49m\u001b[38;5;124;43m'\u001b[39;49m\u001b[43m,\u001b[49m\u001b[43m \u001b[49m\u001b[43mtransform\u001b[49m\u001b[38;5;241;43m=\u001b[39;49m\u001b[43mtorch\u001b[49m\u001b[38;5;241;43m.\u001b[39;49m\u001b[43mfrom_numpy\u001b[49m\u001b[43m)\u001b[49m\n\u001b[1;32m      2\u001b[0m testset  \u001b[38;5;241m=\u001b[39m PCGDataset(\u001b[38;5;124m'\u001b[39m\u001b[38;5;124m../sample_test\u001b[39m\u001b[38;5;124m'\u001b[39m, transform\u001b[38;5;241m=\u001b[39mtorch\u001b[38;5;241m.\u001b[39mfrom_numpy)\n",
      "Input \u001b[0;32mIn [29]\u001b[0m, in \u001b[0;36mPCGDataset.__init__\u001b[0;34m(self, data_folder, transform)\u001b[0m\n\u001b[1;32m     12\u001b[0m signals \u001b[38;5;241m=\u001b[39m split_signals(signals, final_len\u001b[38;5;241m=\u001b[39m\u001b[38;5;241m8192\u001b[39m, stride\u001b[38;5;241m=\u001b[39m\u001b[38;5;241m2048\u001b[39m)\n\u001b[1;32m     14\u001b[0m mel_spects \u001b[38;5;241m=\u001b[39m make_mel_spectrograms(signals, \u001b[38;5;241m1000\u001b[39m)\n\u001b[0;32m---> 16\u001b[0m inps \u001b[38;5;241m=\u001b[39m \u001b[43mtorch\u001b[49m\u001b[38;5;241;43m.\u001b[39;49m\u001b[43mTensor\u001b[49m\u001b[43m(\u001b[49m\u001b[43mmel_spects\u001b[49m\u001b[43m[\u001b[49m\u001b[38;5;241;43m0\u001b[39;49m\u001b[43m]\u001b[49m\u001b[43m[\u001b[49m\u001b[38;5;241;43m0\u001b[39;49m\u001b[43m]\u001b[49m\u001b[43m)\u001b[49m\n\u001b[1;32m     17\u001b[0m \u001b[38;5;28mprint\u001b[39m(inps\u001b[38;5;241m.\u001b[39mshaps)\n\u001b[1;32m     19\u001b[0m \u001b[38;5;28;01mfor\u001b[39;00m patient_no \u001b[38;5;129;01min\u001b[39;00m \u001b[38;5;28mrange\u001b[39m(\u001b[38;5;28mlen\u001b[39m(signals)):\n",
      "\u001b[0;31mValueError\u001b[0m: only one element tensors can be converted to Python scalars"
     ]
    }
   ],
   "source": [
    "trainset = PCGDataset('../sample_train', transform=torch.from_numpy)\n",
    "testset  = PCGDataset('../sample_test', transform=torch.from_numpy)"
   ]
  },
  {
   "cell_type": "code",
   "execution_count": 8,
   "id": "7be73445",
   "metadata": {},
   "outputs": [],
   "source": [
    "trainloader = DataLoader(dataset=trainset, batch_size=64, shuffle=True)\n",
    "testloader  = DataLoader(dataset=testset, batch_size=64, shuffle=True)"
   ]
  },
  {
   "cell_type": "code",
   "execution_count": 9,
   "id": "12906eb3",
   "metadata": {},
   "outputs": [
    {
     "name": "stderr",
     "output_type": "stream",
     "text": [
      "/home2/vijay.vignesh/miniconda3/envs/pcg/lib/python3.10/site-packages/torch/cuda/__init__.py:82: UserWarning: CUDA initialization: CUDA driver initialization failed, you might not have a CUDA gpu. (Triggered internally at  /opt/conda/conda-bld/pytorch_1646755897462/work/c10/cuda/CUDAFunctions.cpp:112.)\n",
      "  return torch._C._cuda_getDeviceCount() > 0\n"
     ]
    }
   ],
   "source": [
    "device = torch.device('cuda' if torch.cuda.is_available() else 'cpu')"
   ]
  },
  {
   "cell_type": "code",
   "execution_count": 10,
   "id": "93869ec7-a5bd-4ef4-9cdf-b6ed316cff0b",
   "metadata": {},
   "outputs": [
    {
     "data": {
      "text/plain": [
       "device(type='cpu')"
      ]
     },
     "execution_count": 10,
     "metadata": {},
     "output_type": "execute_result"
    }
   ],
   "source": [
    "device"
   ]
  },
  {
   "cell_type": "code",
   "execution_count": null,
   "id": "e7861c03",
   "metadata": {},
   "outputs": [],
   "source": [
    "# arch_config = {\n",
    "# 'n_input_channels':1,\n",
    "# 'signal_length':8192,\n",
    "# 'net_filter_size':[16   , 32 , 64  , 128, 196, 256],\n",
    "# 'net_signal_length':[8192, 4096, 1024, 256,  64,  16],\n",
    "# 'kernel_size':51,\n",
    "# 'n_classes':3,\n",
    "# 'dropout_rate':0.3\n",
    "# }"
   ]
  },
  {
   "cell_type": "code",
   "execution_count": 11,
   "id": "36b4b0a5-fd81-40ce-bfc7-c661f3f6b70e",
   "metadata": {},
   "outputs": [],
   "source": [
    "train_config = {\n",
    "'num_epochs':10,\n",
    "'learning_rate':1e-4,\n",
    "}"
   ]
  },
  {
   "cell_type": "code",
   "execution_count": null,
   "id": "54d9b411-a58f-493e-9313-65d1a487279d",
   "metadata": {},
   "outputs": [],
   "source": [
    "# wandb.init(project=\"PCG\", entity=\"zelda\", config={**arch_config, **train_config})"
   ]
  },
  {
   "cell_type": "code",
   "execution_count": null,
   "id": "c03a7905",
   "metadata": {},
   "outputs": [],
   "source": [
    "# arch_config = {\n",
    "# 'n_input_channels':1,\n",
    "# 'signal_length':8192,\n",
    "# 'net_filter_size':[8   , 16  , 32],\n",
    "# 'net_signal_length':[1024, 256, 64],\n",
    "# 'kernel_size':51,\n",
    "# 'n_classes':3,\n",
    "# 'dropout_rate':0.1\n",
    "# }\n",
    "\n",
    "# model = ResNet1d(input_dim=(arch_config['n_input_channels'], arch_config['signal_length']), \n",
    "#          blocks_dim=list(zip(arch_config['net_filter_size'], arch_config['net_signal_length'])),\n",
    "#          kernel_size=arch_config['kernel_size'],\n",
    "#          n_classes=arch_config['n_classes'],\n",
    "#          dropout_rate=arch_config['dropout_rate'])"
   ]
  },
  {
   "cell_type": "code",
   "execution_count": 50,
   "id": "9ce086c6-af3d-4f9d-9b50-8430a91d7d1c",
   "metadata": {},
   "outputs": [],
   "source": [
    "from src.models.ast_models import ASTModel"
   ]
  },
  {
   "cell_type": "code",
   "execution_count": 51,
   "id": "f6e732c6-fa07-4589-afa1-c2454546adda",
   "metadata": {},
   "outputs": [
    {
     "name": "stdout",
     "output_type": "stream",
     "text": [
      "---------------AST Model Summary---------------\n",
      "ImageNet pretraining: False, AudioSet pretraining: False\n",
      "frequncey stride=10, time stride=10\n",
      "number of patches=24\n"
     ]
    }
   ],
   "source": [
    "model = ASTModel(label_dim=3,input_fdim=33, input_tdim=128, imagenet_pretrain=False)"
   ]
  },
  {
   "cell_type": "code",
   "execution_count": 52,
   "id": "d9c5bda2",
   "metadata": {},
   "outputs": [],
   "source": [
    "model = model.to(device)"
   ]
  },
  {
   "cell_type": "code",
   "execution_count": 14,
   "id": "27f6fd76",
   "metadata": {},
   "outputs": [],
   "source": [
    "criterion = torch.nn.CrossEntropyLoss()\n",
    "# optimizer = torch.optim.Adam(model.parameters(), lr=train_config['learning_rate'])\n",
    "optimizer = torch.optim.Adam(model.parameters(), lr=train_config['learning_rate'], weight_decay=0.001)"
   ]
  },
  {
   "cell_type": "code",
   "execution_count": null,
   "id": "2b59f34c-c159-4c1b-a0dc-901e5538dfdf",
   "metadata": {},
   "outputs": [],
   "source": [
    "import matplotlib.pyplot as plt\n",
    "import librosa"
   ]
  },
  {
   "cell_type": "code",
   "execution_count": null,
   "id": "b6376409-73fc-4e87-9dd4-f416b9dfc22a",
   "metadata": {},
   "outputs": [],
   "source": []
  },
  {
   "cell_type": "code",
   "execution_count": null,
   "id": "934cbf40-f1e6-4570-ba8f-98c6e2f331ac",
   "metadata": {},
   "outputs": [],
   "source": [
    "def plot_spectrogram(spec, title=None, ylabel=\"freq_bin\", aspect=\"auto\", xmax=None):\n",
    "    fig, axs = plt.subplots(1, 1)\n",
    "    axs.set_title(title or \"Spectrogram (db)\")\n",
    "    axs.set_ylabel(ylabel)\n",
    "    axs.set_xlabel(\"frame\")\n",
    "    im = axs.imshow(spec, origin=\"lower\", aspect=aspect)\n",
    "    if xmax:\n",
    "        axs.set_xlim((0, xmax))\n",
    "    fig.colorbar(im, ax=axs)\n",
    "    plt.show(block=False)"
   ]
  },
  {
   "cell_type": "code",
   "execution_count": null,
   "id": "70a70234",
   "metadata": {
    "scrolled": true
   },
   "outputs": [],
   "source": [
    "val_loss =[]\n",
    "train_loss = []\n",
    "best_loss = 1000\n",
    "curr_loss = 1000\n",
    "\n",
    "for epoch in (range(train_config['num_epochs'])):\n",
    "    \n",
    "    model.train()\n",
    "    t = [] \n",
    "    for i, (inputs, specs, labels, pid) in enumerate(trainloader): #tqdm(enumerate(trainloader), total=len(trainloader), leave=False):\n",
    "        \n",
    "        # inputs = torch.rand([64, 128, 33]).to(device)\n",
    "        inputs = specs.to(device)\n",
    "        labels = labels.to(device)\n",
    "        # plot_spectrogram(specs[0])\n",
    "        \n",
    "        outputs = model(inputs)\n",
    "        loss   = criterion(outputs, labels)\n",
    "        optimizer.zero_grad()\n",
    "        loss.backward()\n",
    "        optimizer.step()\n",
    "        \n",
    "        t.append(np.array(loss.detach().cpu()).item())\n",
    "    \n",
    "    train_loss.append(np.array(t).mean())\n",
    "    print(train_loss[-1])\n",
    "\n",
    "    model.eval()\n",
    "    l=[]\n",
    "    for i, (inputs, specs, labels) in tqdm(enumerate(testloader), total=len(testloader), leave=False):\n",
    "        \n",
    "        inputs = specs.to(device)\n",
    "        labels = labels.to(device)\n",
    "        \n",
    "        outputs = model(inputs)\n",
    "        loss   = criterion(outputs, labels)\n",
    "        l.append(np.array(loss.detach().cpu()).item())\n",
    "        # wandb.log({'test_loss':loss})\n",
    "    val_loss.append(np.array(l).mean())\n",
    "    \n",
    "    print('Epoch ',epoch ,' train loss: ', np.array(t).mean(), ' val loss: ', np.array(l).mean())\n",
    "    # break\n",
    "    curr_loss = np.array(l).mean()\n",
    "    if curr_loss < best_loss :\n",
    "        # torch.save(model, 'models/best_model'+str(curr_loss)+'.pt')\n",
    "        best_loss = curr_loss\n",
    "        "
   ]
  },
  {
   "cell_type": "code",
   "execution_count": null,
   "id": "a166b008-7735-4078-8bd9-6277cae23251",
   "metadata": {},
   "outputs": [],
   "source": [
    "len(testset)"
   ]
  },
  {
   "cell_type": "code",
   "execution_count": null,
   "id": "08b07194-c198-4361-92fc-d97a6e3557a4",
   "metadata": {},
   "outputs": [],
   "source": [
    "val_loss"
   ]
  },
  {
   "cell_type": "code",
   "execution_count": null,
   "id": "d1118abb-cb8b-4d99-a582-f20672e1f2e1",
   "metadata": {},
   "outputs": [],
   "source": [
    "import matplotlib.pyplot as plt\n",
    "plt.plot(np.array(val_loss))\n",
    "plt.plot(np.array(train_loss))"
   ]
  },
  {
   "cell_type": "code",
   "execution_count": 53,
   "id": "92c605d6-38d0-42d6-86e7-7a56e93e54a2",
   "metadata": {
    "tags": []
   },
   "outputs": [
    {
     "data": {
      "application/vnd.jupyter.widget-view+json": {
       "model_id": "",
       "version_major": 2,
       "version_minor": 0
      },
      "text/plain": [
       "  0%|          | 0/115 [00:00<?, ?it/s]"
      ]
     },
     "metadata": {},
     "output_type": "display_data"
    }
   ],
   "source": [
    "true= []\n",
    "preds = []\n",
    "patient_labels = {}\n",
    "patient_preds = {}\n",
    "model.eval()\n",
    "for i, (inputs, specs, labels, pids) in tqdm(enumerate(testloader), total=len(testloader), leave=False):\n",
    "    inputs = specs.to(device)\n",
    "    labels = labels.to(device)\n",
    "\n",
    "    outputs = model(inputs)\n",
    "    # print(outputs)\n",
    "    # print(outputs.shape, labels.shape)\n",
    "    a =np.array(outputs.detach().cpu())\n",
    "    b= np.array(labels.detach().cpu())\n",
    "    true = np.concatenate((true, np.argmax(b, axis = 1)))\n",
    "    preds = np.concatenate((preds, np.argmax(a, axis = 1)))\n",
    "    tt = np.argmax(b, axis = 1)\n",
    "    pp = np.argmax(a, axis = 1)\n",
    "    \n",
    "    # print(\"dsf\",len(pp))\n",
    "    # print(\"ffd\",len(tt))\n",
    "    \n",
    "    for i in range(len(tt)):\n",
    "        patient_labels[pids[i]] = tt[i]\n",
    "        try:\n",
    "            if patient_preds[pids[i]]:\n",
    "                patient_preds[pids[i]].append(pp[i]) \n",
    "        except:\n",
    "            patient_preds[pids[i]] = [pp[i]]\n",
    "        \n",
    "        \n",
    "    # print(a, np.argmax(a, axis = 1))"
   ]
  },
  {
   "cell_type": "code",
   "execution_count": 65,
   "id": "9a96ca67-4481-4e39-ba93-619d43380632",
   "metadata": {
    "tags": []
   },
   "outputs": [],
   "source": [
    "results = {}\n",
    "for i in patient_preds:\n",
    "    ls = patient_preds[i]\n",
    "    probs = np.array([ls.count(0), ls.count(1), ls.count(2)])/len(ls)\n",
    "    val = probs.max()\n",
    "    pos = np.where( probs == val)\n",
    "    results[i] = { 'prediction':pos[0][0], 'confidence':val}"
   ]
  },
  {
   "cell_type": "code",
   "execution_count": 66,
   "id": "f1b2b951-0324-4dd9-9d66-930591b5dff0",
   "metadata": {},
   "outputs": [
    {
     "data": {
      "text/plain": [
       "{'50685': {'prediction': 0, 'confidence': 1.0},\n",
       " '50222': {'prediction': 0, 'confidence': 1.0},\n",
       " '50812': {'prediction': 0, 'confidence': 1.0},\n",
       " '49653': {'prediction': 0, 'confidence': 1.0},\n",
       " '63581': {'prediction': 0, 'confidence': 1.0},\n",
       " '49628': {'prediction': 0, 'confidence': 1.0},\n",
       " '49574': {'prediction': 0, 'confidence': 1.0},\n",
       " '50043': {'prediction': 0, 'confidence': 1.0},\n",
       " '50699': {'prediction': 0, 'confidence': 1.0},\n",
       " '50762': {'prediction': 0, 'confidence': 1.0},\n",
       " '50635': {'prediction': 0, 'confidence': 1.0},\n",
       " '50723': {'prediction': 0, 'confidence': 1.0},\n",
       " '50015': {'prediction': 0, 'confidence': 1.0},\n",
       " '85164': {'prediction': 0, 'confidence': 1.0},\n",
       " '50319': {'prediction': 0, 'confidence': 1.0},\n",
       " '50146': {'prediction': 0, 'confidence': 1.0},\n",
       " '50802': {'prediction': 0, 'confidence': 1.0},\n",
       " '85245': {'prediction': 0, 'confidence': 1.0},\n",
       " '50689': {'prediction': 0, 'confidence': 1.0},\n",
       " '50299': {'prediction': 0, 'confidence': 1.0},\n",
       " '84995': {'prediction': 0, 'confidence': 1.0},\n",
       " '45843': {'prediction': 0, 'confidence': 1.0},\n",
       " '50152': {'prediction': 0, 'confidence': 1.0},\n",
       " '50746': {'prediction': 0, 'confidence': 1.0},\n",
       " '50318': {'prediction': 0, 'confidence': 1.0},\n",
       " '68756': {'prediction': 0, 'confidence': 1.0},\n",
       " '50740': {'prediction': 0, 'confidence': 1.0},\n",
       " '50125': {'prediction': 0, 'confidence': 1.0},\n",
       " '85226': {'prediction': 0, 'confidence': 1.0},\n",
       " '85093': {'prediction': 0, 'confidence': 1.0},\n",
       " '85287': {'prediction': 0, 'confidence': 1.0},\n",
       " '85240': {'prediction': 0, 'confidence': 1.0},\n",
       " '50743': {'prediction': 0, 'confidence': 1.0},\n",
       " '84973': {'prediction': 0, 'confidence': 1.0},\n",
       " '50739': {'prediction': 0, 'confidence': 1.0},\n",
       " '50774': {'prediction': 0, 'confidence': 1.0},\n",
       " '40058': {'prediction': 0, 'confidence': 1.0},\n",
       " '68567': {'prediction': 0, 'confidence': 1.0},\n",
       " '50280': {'prediction': 0, 'confidence': 1.0},\n",
       " '68404': {'prediction': 0, 'confidence': 1.0},\n",
       " '84734': {'prediction': 0, 'confidence': 1.0},\n",
       " '85077': {'prediction': 0, 'confidence': 1.0},\n",
       " '85140': {'prediction': 0, 'confidence': 1.0},\n",
       " '49683': {'prediction': 0, 'confidence': 1.0},\n",
       " '50800': {'prediction': 0, 'confidence': 1.0},\n",
       " '68394': {'prediction': 0, 'confidence': 1.0},\n",
       " '49641': {'prediction': 0, 'confidence': 1.0},\n",
       " '50665': {'prediction': 0, 'confidence': 1.0},\n",
       " '85299': {'prediction': 0, 'confidence': 1.0},\n",
       " '85244': {'prediction': 0, 'confidence': 1.0},\n",
       " '85334': {'prediction': 0, 'confidence': 1.0},\n",
       " '84826': {'prediction': 0, 'confidence': 1.0},\n",
       " '69112': {'prediction': 0, 'confidence': 1.0},\n",
       " '85115': {'prediction': 0, 'confidence': 1.0},\n",
       " '84802': {'prediction': 0, 'confidence': 1.0},\n",
       " '85249': {'prediction': 0, 'confidence': 1.0},\n",
       " '50238': {'prediction': 0, 'confidence': 1.0},\n",
       " '74420': {'prediction': 0, 'confidence': 1.0},\n",
       " '49896': {'prediction': 0, 'confidence': 1.0},\n",
       " '50826': {'prediction': 0, 'confidence': 1.0},\n",
       " '50803': {'prediction': 0, 'confidence': 1.0},\n",
       " '50086': {'prediction': 0, 'confidence': 1.0},\n",
       " '84896': {'prediction': 0, 'confidence': 1.0},\n",
       " '49930': {'prediction': 0, 'confidence': 1.0},\n",
       " '50654': {'prediction': 0, 'confidence': 1.0},\n",
       " '69095': {'prediction': 0, 'confidence': 1.0},\n",
       " '50807': {'prediction': 0, 'confidence': 1.0},\n",
       " '50818': {'prediction': 0, 'confidence': 1.0},\n",
       " '85285': {'prediction': 0, 'confidence': 1.0},\n",
       " '50693': {'prediction': 0, 'confidence': 1.0},\n",
       " '50115': {'prediction': 0, 'confidence': 1.0},\n",
       " '69125': {'prediction': 0, 'confidence': 1.0},\n",
       " '50049': {'prediction': 0, 'confidence': 1.0},\n",
       " '50343': {'prediction': 0, 'confidence': 1.0},\n",
       " '68487': {'prediction': 0, 'confidence': 1.0},\n",
       " '84710': {'prediction': 0, 'confidence': 1.0},\n",
       " '49659': {'prediction': 0, 'confidence': 1.0},\n",
       " '50658': {'prediction': 0, 'confidence': 1.0},\n",
       " '85031': {'prediction': 0, 'confidence': 1.0},\n",
       " '85288': {'prediction': 0, 'confidence': 1.0},\n",
       " '50815': {'prediction': 0, 'confidence': 1.0},\n",
       " '49824': {'prediction': 0, 'confidence': 1.0},\n",
       " '84687': {'prediction': 0, 'confidence': 1.0},\n",
       " '85250': {'prediction': 0, 'confidence': 1.0},\n",
       " '69174': {'prediction': 0, 'confidence': 1.0},\n",
       " '14998': {'prediction': 0, 'confidence': 1.0},\n",
       " '50626': {'prediction': 0, 'confidence': 1.0},\n",
       " '85043': {'prediction': 0, 'confidence': 1.0},\n",
       " '57700': {'prediction': 0, 'confidence': 1.0},\n",
       " '85319': {'prediction': 0, 'confidence': 1.0},\n",
       " '50640': {'prediction': 0, 'confidence': 1.0},\n",
       " '50753': {'prediction': 0, 'confidence': 1.0},\n",
       " '50099': {'prediction': 0, 'confidence': 1.0},\n",
       " '75440': {'prediction': 0, 'confidence': 1.0},\n",
       " '50713': {'prediction': 0, 'confidence': 1.0},\n",
       " '85277': {'prediction': 0, 'confidence': 1.0},\n",
       " '85064': {'prediction': 0, 'confidence': 1.0},\n",
       " '50061': {'prediction': 0, 'confidence': 1.0},\n",
       " '84835': {'prediction': 0, 'confidence': 1.0},\n",
       " '50734': {'prediction': 0, 'confidence': 1.0},\n",
       " '49854': {'prediction': 0, 'confidence': 1.0},\n",
       " '84755': {'prediction': 0, 'confidence': 1.0},\n",
       " '50384': {'prediction': 0, 'confidence': 1.0},\n",
       " '69068': {'prediction': 0, 'confidence': 1.0},\n",
       " '84808': {'prediction': 0, 'confidence': 1.0},\n",
       " '50757': {'prediction': 0, 'confidence': 1.0},\n",
       " '68682': {'prediction': 0, 'confidence': 1.0},\n",
       " '51331': {'prediction': 0, 'confidence': 1.0},\n",
       " '50649': {'prediction': 0, 'confidence': 1.0},\n",
       " '50341': {'prediction': 0, 'confidence': 1.0},\n",
       " '85269': {'prediction': 0, 'confidence': 1.0},\n",
       " '49995': {'prediction': 0, 'confidence': 1.0},\n",
       " '50258': {'prediction': 0, 'confidence': 1.0},\n",
       " '50678': {'prediction': 0, 'confidence': 1.0},\n",
       " '49745': {'prediction': 0, 'confidence': 1.0},\n",
       " '85109': {'prediction': 0, 'confidence': 1.0},\n",
       " '85332': {'prediction': 0, 'confidence': 1.0},\n",
       " '85169': {'prediction': 0, 'confidence': 1.0},\n",
       " '69188': {'prediction': 0, 'confidence': 1.0},\n",
       " '50822': {'prediction': 0, 'confidence': 1.0},\n",
       " '50216': {'prediction': 0, 'confidence': 1.0},\n",
       " '50264': {'prediction': 0, 'confidence': 1.0},\n",
       " '50631': {'prediction': 0, 'confidence': 1.0},\n",
       " '49729': {'prediction': 0, 'confidence': 1.0},\n",
       " '85143': {'prediction': 0, 'confidence': 1.0},\n",
       " '50781': {'prediction': 0, 'confidence': 1.0},\n",
       " '85262': {'prediction': 0, 'confidence': 1.0},\n",
       " '49558': {'prediction': 0, 'confidence': 1.0},\n",
       " '85110': {'prediction': 0, 'confidence': 1.0},\n",
       " '68337': {'prediction': 0, 'confidence': 1.0},\n",
       " '85096': {'prediction': 0, 'confidence': 1.0},\n",
       " '14241': {'prediction': 0, 'confidence': 1.0},\n",
       " '84887': {'prediction': 0, 'confidence': 1.0},\n",
       " '84813': {'prediction': 0, 'confidence': 1.0},\n",
       " '49850': {'prediction': 0, 'confidence': 1.0},\n",
       " '50278': {'prediction': 0, 'confidence': 1.0},\n",
       " '49638': {'prediction': 0, 'confidence': 1.0},\n",
       " '49838': {'prediction': 0, 'confidence': 1.0},\n",
       " '50034': {'prediction': 0, 'confidence': 1.0},\n",
       " '68186': {'prediction': 0, 'confidence': 1.0},\n",
       " '84738': {'prediction': 0, 'confidence': 1.0},\n",
       " '68887': {'prediction': 0, 'confidence': 1.0},\n",
       " '84856': {'prediction': 0, 'confidence': 1.0},\n",
       " '85306': {'prediction': 0, 'confidence': 1.0},\n",
       " '49959': {'prediction': 0, 'confidence': 1.0},\n",
       " '85294': {'prediction': 0, 'confidence': 1.0},\n",
       " '50756': {'prediction': 0, 'confidence': 1.0},\n",
       " '85214': {'prediction': 0, 'confidence': 1.0},\n",
       " '50213': {'prediction': 0, 'confidence': 1.0},\n",
       " '49669': {'prediction': 0, 'confidence': 1.0},\n",
       " '50304': {'prediction': 0, 'confidence': 1.0},\n",
       " '84939': {'prediction': 0, 'confidence': 1.0},\n",
       " '50217': {'prediction': 0, 'confidence': 1.0},\n",
       " '61610': {'prediction': 0, 'confidence': 1.0},\n",
       " '85176': {'prediction': 0, 'confidence': 1.0},\n",
       " '84881': {'prediction': 0, 'confidence': 1.0},\n",
       " '50752': {'prediction': 0, 'confidence': 1.0},\n",
       " '85234': {'prediction': 0, 'confidence': 1.0},\n",
       " '85180': {'prediction': 0, 'confidence': 1.0},\n",
       " '84853': {'prediction': 0, 'confidence': 1.0},\n",
       " '50758': {'prediction': 0, 'confidence': 1.0},\n",
       " '2530': {'prediction': 0, 'confidence': 1.0},\n",
       " '50296': {'prediction': 0, 'confidence': 1.0},\n",
       " '68646': {'prediction': 0, 'confidence': 1.0},\n",
       " '84986': {'prediction': 0, 'confidence': 1.0},\n",
       " '50004': {'prediction': 0, 'confidence': 1.0},\n",
       " '84876': {'prediction': 0, 'confidence': 1.0},\n",
       " '50326': {'prediction': 0, 'confidence': 1.0},\n",
       " '50295': {'prediction': 0, 'confidence': 1.0},\n",
       " '50805': {'prediction': 0, 'confidence': 1.0},\n",
       " '85197': {'prediction': 0, 'confidence': 1.0},\n",
       " '84971': {'prediction': 0, 'confidence': 1.0},\n",
       " '84857': {'prediction': 0, 'confidence': 1.0},\n",
       " '50143': {'prediction': 0, 'confidence': 1.0},\n",
       " '84814': {'prediction': 0, 'confidence': 1.0},\n",
       " '49900': {'prediction': 0, 'confidence': 1.0},\n",
       " '85000': {'prediction': 0, 'confidence': 1.0},\n",
       " '69066': {'prediction': 0, 'confidence': 1.0},\n",
       " '29045': {'prediction': 0, 'confidence': 1.0},\n",
       " '50249': {'prediction': 0, 'confidence': 1.0},\n",
       " '85119': {'prediction': 0, 'confidence': 1.0},\n",
       " '85066': {'prediction': 0, 'confidence': 1.0},\n",
       " '50375': {'prediction': 0, 'confidence': 1.0},\n",
       " '50219': {'prediction': 0, 'confidence': 1.0},\n",
       " '68318': {'prediction': 0, 'confidence': 1.0},\n",
       " '84961': {'prediction': 0, 'confidence': 1.0},\n",
       " '50053': {'prediction': 0, 'confidence': 0.9782608695652174},\n",
       " '49873': {'prediction': 0, 'confidence': 1.0},\n",
       " '50231': {'prediction': 0, 'confidence': 1.0},\n",
       " '85028': {'prediction': 0, 'confidence': 1.0},\n",
       " '85167': {'prediction': 0, 'confidence': 1.0},\n",
       " '50272': {'prediction': 0, 'confidence': 1.0},\n",
       " '85023': {'prediction': 0, 'confidence': 1.0},\n",
       " '50798': {'prediction': 0, 'confidence': 1.0},\n",
       " '13918': {'prediction': 0, 'confidence': 1.0},\n",
       " '84991': {'prediction': 0, 'confidence': 1.0},\n",
       " '49832': {'prediction': 0, 'confidence': 1.0},\n",
       " '78592': {'prediction': 0, 'confidence': 1.0},\n",
       " '68219': {'prediction': 0, 'confidence': 1.0},\n",
       " '43852': {'prediction': 0, 'confidence': 1.0},\n",
       " '84690': {'prediction': 0, 'confidence': 1.0},\n",
       " '84952': {'prediction': 0, 'confidence': 1.0},\n",
       " '50119': {'prediction': 0, 'confidence': 1.0},\n",
       " '85154': {'prediction': 0, 'confidence': 1.0},\n",
       " '50652': {'prediction': 0, 'confidence': 1.0},\n",
       " '85253': {'prediction': 0, 'confidence': 1.0},\n",
       " '84855': {'prediction': 0, 'confidence': 1.0},\n",
       " '50153': {'prediction': 0, 'confidence': 1.0},\n",
       " '50298': {'prediction': 0, 'confidence': 1.0},\n",
       " '49963': {'prediction': 0, 'confidence': 1.0},\n",
       " '84758': {'prediction': 0, 'confidence': 1.0},\n",
       " '85317': {'prediction': 0, 'confidence': 1.0},\n",
       " '50316': {'prediction': 0, 'confidence': 1.0},\n",
       " '85042': {'prediction': 0, 'confidence': 1.0},\n",
       " '84785': {'prediction': 0, 'confidence': 1.0},\n",
       " '50207': {'prediction': 0, 'confidence': 1.0},\n",
       " '50644': {'prediction': 0, 'confidence': 1.0},\n",
       " '69106': {'prediction': 0, 'confidence': 1.0},\n",
       " '84727': {'prediction': 0, 'confidence': 1.0},\n",
       " '50790': {'prediction': 0, 'confidence': 1.0},\n",
       " '85102': {'prediction': 0, 'confidence': 1.0},\n",
       " '49598': {'prediction': 0, 'confidence': 1.0},\n",
       " '50018': {'prediction': 0, 'confidence': 1.0},\n",
       " '77373': {'prediction': 0, 'confidence': 1.0},\n",
       " '85131': {'prediction': 0, 'confidence': 1.0},\n",
       " '50339': {'prediction': 0, 'confidence': 1.0},\n",
       " '50057': {'prediction': 0, 'confidence': 1.0},\n",
       " '85212': {'prediction': 0, 'confidence': 1.0},\n",
       " '84912': {'prediction': 0, 'confidence': 1.0},\n",
       " '61117': {'prediction': 0, 'confidence': 1.0},\n",
       " '50263': {'prediction': 0, 'confidence': 1.0},\n",
       " '68298': {'prediction': 0, 'confidence': 1.0},\n",
       " '84750': {'prediction': 0, 'confidence': 1.0},\n",
       " '85135': {'prediction': 0, 'confidence': 1.0},\n",
       " '68857': {'prediction': 0, 'confidence': 1.0},\n",
       " '84689': {'prediction': 0, 'confidence': 1.0},\n",
       " '85345': {'prediction': 0, 'confidence': 1.0},\n",
       " '49735': {'prediction': 0, 'confidence': 1.0},\n",
       " '84851': {'prediction': 0, 'confidence': 1.0},\n",
       " '84746': {'prediction': 0, 'confidence': 1.0},\n",
       " '85335': {'prediction': 0, 'confidence': 1.0},\n",
       " '69093': {'prediction': 0, 'confidence': 1.0},\n",
       " '84720': {'prediction': 0, 'confidence': 1.0},\n",
       " '84977': {'prediction': 0, 'confidence': 1.0},\n",
       " '84974': {'prediction': 0, 'confidence': 1.0},\n",
       " '85181': {'prediction': 0, 'confidence': 1.0},\n",
       " '50145': {'prediction': 0, 'confidence': 1.0},\n",
       " '68347': {'prediction': 0, 'confidence': 1.0},\n",
       " '50300': {'prediction': 0, 'confidence': 1.0},\n",
       " '38337': {'prediction': 0, 'confidence': 1.0},\n",
       " '49994': {'prediction': 0, 'confidence': 1.0},\n",
       " '49979': {'prediction': 0, 'confidence': 1.0},\n",
       " '50103': {'prediction': 0, 'confidence': 1.0},\n",
       " '68194': {'prediction': 0, 'confidence': 1.0},\n",
       " '50122': {'prediction': 0, 'confidence': 1.0},\n",
       " '50391': {'prediction': 0, 'confidence': 1.0},\n",
       " '84711': {'prediction': 0, 'confidence': 1.0},\n",
       " '69120': {'prediction': 0, 'confidence': 1.0},\n",
       " '50118': {'prediction': 0, 'confidence': 1.0},\n",
       " '33151': {'prediction': 0, 'confidence': 1.0},\n",
       " '85084': {'prediction': 0, 'confidence': 1.0},\n",
       " '85034': {'prediction': 0, 'confidence': 1.0},\n",
       " '50285': {'prediction': 0, 'confidence': 1.0},\n",
       " '84780': {'prediction': 0, 'confidence': 1.0},\n",
       " '85069': {'prediction': 0, 'confidence': 1.0},\n",
       " '84965': {'prediction': 0, 'confidence': 1.0},\n",
       " '23625': {'prediction': 0, 'confidence': 1.0},\n",
       " '84866': {'prediction': 0, 'confidence': 1.0},\n",
       " '68484': {'prediction': 0, 'confidence': 1.0},\n",
       " '68316': {'prediction': 0, 'confidence': 1.0},\n",
       " '50671': {'prediction': 0, 'confidence': 1.0},\n",
       " '50655': {'prediction': 0, 'confidence': 1.0},\n",
       " '68363': {'prediction': 0, 'confidence': 1.0},\n",
       " '68556': {'prediction': 0, 'confidence': 1.0},\n",
       " '84798': {'prediction': 0, 'confidence': 1.0},\n",
       " '49983': {'prediction': 0, 'confidence': 1.0},\n",
       " '50014': {'prediction': 0, 'confidence': 1.0},\n",
       " '85243': {'prediction': 0, 'confidence': 1.0},\n",
       " '85087': {'prediction': 0, 'confidence': 1.0},\n",
       " '85004': {'prediction': 0, 'confidence': 1.0},\n",
       " '84928': {'prediction': 0, 'confidence': 1.0},\n",
       " '85322': {'prediction': 0, 'confidence': 1.0}}"
      ]
     },
     "execution_count": 66,
     "metadata": {},
     "output_type": "execute_result"
    }
   ],
   "source": [
    "results"
   ]
  },
  {
   "cell_type": "code",
   "execution_count": null,
   "id": "0a0be68c-cf4e-49ea-bad0-9c4dfa0d614b",
   "metadata": {
    "tags": []
   },
   "outputs": [],
   "source": [
    "print(\"acc\",np.sum(true== preds, dtype=float)/len(true))"
   ]
  },
  {
   "cell_type": "code",
   "execution_count": null,
   "id": "dfd0f2e9-c179-486e-8d25-6afa1417d31e",
   "metadata": {
    "tags": []
   },
   "outputs": [],
   "source": [
    "plt.hist(true)"
   ]
  },
  {
   "cell_type": "code",
   "execution_count": null,
   "id": "cd611e31-686a-42fc-85c8-57bd6648f05e",
   "metadata": {},
   "outputs": [],
   "source": [
    "plt.hist(preds)"
   ]
  },
  {
   "cell_type": "code",
   "execution_count": null,
   "id": "9ab96e80-be7d-4dec-9205-3fc302ba801f",
   "metadata": {},
   "outputs": [],
   "source": [
    "true"
   ]
  },
  {
   "cell_type": "code",
   "execution_count": null,
   "id": "7ce77352-701e-4cce-8f88-87639c7571ef",
   "metadata": {},
   "outputs": [],
   "source": [
    "cm = np.array([0]*9).reshape(3,3)"
   ]
  },
  {
   "cell_type": "code",
   "execution_count": null,
   "id": "853d65b8-7ad1-4f5b-a8bc-7e2a6b2f3611",
   "metadata": {},
   "outputs": [],
   "source": [
    "for i in range(len(true)):\n",
    "    cm[int(true[i])][int(preds[i])] += 1"
   ]
  },
  {
   "cell_type": "code",
   "execution_count": null,
   "id": "b622792f-a4ed-444a-8677-5053a3c9ce7b",
   "metadata": {},
   "outputs": [],
   "source": [
    "cm"
   ]
  },
  {
   "cell_type": "code",
   "execution_count": null,
   "id": "3ab3918d-cba3-4738-ac68-3c87e78b78a2",
   "metadata": {},
   "outputs": [],
   "source": []
  },
  {
   "cell_type": "code",
   "execution_count": null,
   "id": "ecaf9f5c-9366-42d2-88df-ac5ba0e7eb09",
   "metadata": {},
   "outputs": [],
   "source": []
  }
 ],
 "metadata": {
  "kernelspec": {
   "display_name": "Python 3 (ipykernel)",
   "language": "python",
   "name": "python3"
  },
  "language_info": {
   "codemirror_mode": {
    "name": "ipython",
    "version": 3
   },
   "file_extension": ".py",
   "mimetype": "text/x-python",
   "name": "python",
   "nbconvert_exporter": "python",
   "pygments_lexer": "ipython3",
   "version": "3.10.4"
  }
 },
 "nbformat": 4,
 "nbformat_minor": 5
}
